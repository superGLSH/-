{
  "nbformat": 4,
  "nbformat_minor": 0,
  "metadata": {
    "colab": {
      "provenance": []
    },
    "kernelspec": {
      "name": "python3",
      "display_name": "Python 3"
    },
    "language_info": {
      "name": "python"
    }
  },
  "cells": [
    {
      "cell_type": "code",
      "source": [
        "import tensorflow as tf\n",
        "from tensorflow.keras.preprocessing.text import Tokenizer\n",
        "from tensorflow.keras.preprocessing.sequence import pad_sequences\n",
        "import pandas as pd\n",
        "\n",
        "data = pd.read_csv(\"task-3-dataset.csv\")\n",
        "corpus = data[\"отзывы\"]\n",
        "fin = data[\"разметка\"].to_list()\n",
        "fin = [1 if i==\"+\" else 0 for i in fin]\n",
        "\n",
        "tokenizer = Tokenizer()\n",
        "tokenizer.fit_on_texts(corpus)\n",
        "\n",
        "sequences = tokenizer.texts_to_sequences(corpus)\n",
        "vocab_size = len(tokenizer.word_index) + 1"
      ],
      "metadata": {
        "id": "aGRMlJjXoFZS"
      },
      "execution_count": 139,
      "outputs": []
    },
    {
      "cell_type": "code",
      "source": [
        "context_target_pairs = []\n",
        "window_size = 2\n",
        "\n",
        "for sequence in sequences:\n",
        "    for i, target_word in enumerate(sequence):\n",
        "        for j in range(max(0, i - window_size), min(len(sequence), i + window_size + 1)):\n",
        "            if j != i:\n",
        "                context_target_pairs.append((target_word, sequence[j]))\n"
      ],
      "metadata": {
        "id": "6V7fq2fdoZOj"
      },
      "execution_count": 118,
      "outputs": []
    },
    {
      "cell_type": "code",
      "source": [
        "import numpy as np\n",
        "\n",
        "X, y = zip(*context_target_pairs)\n",
        "X = np.array(X)\n",
        "y = tf.keras.utils.to_categorical(y, num_classes=vocab_size)"
      ],
      "metadata": {
        "id": "ZadDOj08od2e"
      },
      "execution_count": 132,
      "outputs": []
    },
    {
      "cell_type": "code",
      "source": [
        "from tensorflow.keras.models import Sequential\n",
        "from tensorflow.keras.layers import Embedding, Flatten, Dense\n",
        "\n",
        "\n",
        "embedding_dim = 100\n",
        "\n",
        "model = Sequential()\n",
        "model.add(Embedding(input_dim=vocab_size, output_dim=embedding_dim, input_length=1))\n",
        "model.add(Flatten())\n",
        "model.add(Dense(vocab_size, activation='softmax'))\n",
        "\n",
        "model.compile(loss='categorical_crossentropy', optimizer='adam')\n",
        "\n"
      ],
      "metadata": {
        "id": "nKG7WhXTouM1"
      },
      "execution_count": 120,
      "outputs": []
    },
    {
      "cell_type": "code",
      "source": [
        "num_epochs = 10\n",
        "\n",
        "model.fit(X, y, epochs=num_epochs)"
      ],
      "metadata": {
        "colab": {
          "base_uri": "https://localhost:8080/"
        },
        "id": "D9U5tonZpvTR",
        "outputId": "3c3afe62-686f-4391-8cc9-877ca29333c2"
      },
      "execution_count": 121,
      "outputs": [
        {
          "output_type": "stream",
          "name": "stdout",
          "text": [
            "Epoch 1/10\n",
            "318/318 [==============================] - 3s 8ms/step - loss: 7.0767\n",
            "Epoch 2/10\n",
            "318/318 [==============================] - 3s 10ms/step - loss: 6.7617\n",
            "Epoch 3/10\n",
            "318/318 [==============================] - 2s 6ms/step - loss: 6.3471\n",
            "Epoch 4/10\n",
            "318/318 [==============================] - 2s 6ms/step - loss: 6.0221\n",
            "Epoch 5/10\n",
            "318/318 [==============================] - 2s 6ms/step - loss: 5.7149\n",
            "Epoch 6/10\n",
            "318/318 [==============================] - 2s 6ms/step - loss: 5.4021\n",
            "Epoch 7/10\n",
            "318/318 [==============================] - 2s 6ms/step - loss: 5.0915\n",
            "Epoch 8/10\n",
            "318/318 [==============================] - 4s 13ms/step - loss: 4.7949\n",
            "Epoch 9/10\n",
            "318/318 [==============================] - 2s 7ms/step - loss: 4.5223\n",
            "Epoch 10/10\n",
            "318/318 [==============================] - 2s 6ms/step - loss: 4.2785\n"
          ]
        },
        {
          "output_type": "execute_result",
          "data": {
            "text/plain": [
              "<keras.src.callbacks.History at 0x7d5f5fd1e8f0>"
            ]
          },
          "metadata": {},
          "execution_count": 121
        }
      ]
    },
    {
      "cell_type": "code",
      "source": [
        "word_embeddings = model.layers[0].get_weights()[0]\n",
        "\n",
        "target_word = 'телефон'\n",
        "word_index = tokenizer.word_index.get(target_word)\n",
        "if word_index is not None:\n",
        "    word_embedding_vector = word_embeddings[word_index]\n",
        "    print(f\"Вектор для слова '{target_word}': {word_embedding_vector}\")\n",
        "else:\n",
        "    print(f\"'{target_word}' не найдено среди всех слов.\")"
      ],
      "metadata": {
        "colab": {
          "base_uri": "https://localhost:8080/"
        },
        "id": "OyHA2FVBp2Nx",
        "outputId": "16a6ee56-3e5e-4cf7-f6ee-7ccd31c75093"
      },
      "execution_count": 122,
      "outputs": [
        {
          "output_type": "stream",
          "name": "stdout",
          "text": [
            "Вектор для слова 'телефон': [-0.35741407  0.1339267  -0.4532818  -0.15932302 -0.04418449 -0.28421944\n",
            "  0.47274002  0.16375524 -0.01170467 -0.3986193   0.27419224 -0.3159022\n",
            "  0.53526103  0.4247141   0.10579167 -0.33013615 -0.22953078 -0.46438876\n",
            " -0.38823265 -0.4344085  -0.5206725  -0.20210354  0.28918138  0.310456\n",
            " -0.1979416   0.33816576 -0.41567242 -0.11800007  0.5352778   0.6013583\n",
            " -0.4347485  -0.2045411   0.14448817 -0.21696346 -0.38845488 -0.04558199\n",
            " -0.28810078  0.34633395 -0.06831435 -0.31511036 -0.20751542  0.5536184\n",
            " -0.09212263 -0.45571676  0.4745746   0.24388722  0.17282708 -0.1442755\n",
            " -0.07850103  0.22250332  0.5367127   0.4424646   0.00283869  0.04340453\n",
            " -0.31778008  0.2366      0.05797578  0.04110621  0.06463521  0.42512706\n",
            " -0.3353674  -0.29857287  0.122361    0.18611804  0.6407472   0.2775411\n",
            " -0.41764265 -0.07232455  0.13853529 -0.54698354  0.4037067   0.38135242\n",
            " -0.31432185 -0.05389244  0.01324827  0.67270625 -0.23603547  0.45949396\n",
            "  0.1657486  -0.29210037 -0.30275214  0.08429815  0.1519707  -0.11252489\n",
            "  0.4094344   0.13652149  0.37917233  0.36201522 -0.1485473  -0.22554386\n",
            "  0.23704538  0.42812905  0.16692202  0.4019646   0.22163518  0.09714301\n",
            "  0.2853041  -0.21352091  0.2845992   0.28866962]\n"
          ]
        }
      ]
    },
    {
      "cell_type": "code",
      "source": [
        "import cirq\n",
        "def Anzatz(qubits, thetax, thetay):\n",
        "    n = len(qubits)\n",
        "    yield [cirq.Rx(rads=thetax[j])(qubits[j]) for j in range(n)]\n",
        "    yield [cirq.Ry(rads=thetay[j])(qubits[j]) for j in range(n)]\n",
        "    yield [cirq.CNOT(qubits[j], qubits[j + 1]) for j in range(n - 1)]\n",
        "    yield [cirq.M(i) for i in qubits]"
      ],
      "metadata": {
        "id": "5VW1r21Zp6RL"
      },
      "execution_count": 123,
      "outputs": []
    },
    {
      "cell_type": "code",
      "source": [
        "def get_ising_operator(qubits):\n",
        "    def kron(l):\n",
        "        if len(l) != 1:\n",
        "            res = np.kron(l[-2], l[-1])\n",
        "            l = l[:-2]\n",
        "            l.append(res)\n",
        "            return kron(l)\n",
        "        else:\n",
        "            return l[0]\n",
        "    for i in range(len(qubits)):\n",
        "       op = cirq.Z(qubits[i])\n",
        "    return np.abs(op - fin)"
      ],
      "metadata": {
        "id": "Geu414qZvLDi"
      },
      "execution_count": 135,
      "outputs": []
    },
    {
      "cell_type": "code",
      "source": [
        "import tensorflow_quantum as tfq\n",
        "import sympy\n",
        "from tqdm import tqdm\n",
        "\n",
        "n = 4\n",
        "epochs = 10\n",
        "qubits = cirq.LineQubit.range(n)\n",
        "op = get_ising_operator(qubits)\n",
        "thetax = sympy.symbols(f\"x0:{n}\")\n",
        "thetay = sympy.symbols(f\"y0:{n}\")\n",
        "circuit = cirq.Circuit()\n",
        "circuit.append(Anzatz(qubits, thetax, thetay))\n",
        "lr = 0.1\n",
        "\n",
        "model = tfq.layers.SampledExpectation()\n",
        "\n",
        "# Вектор обучаемых параметров\n",
        "teta = tf.Variable(2*np.pi*np.random.random((1, 2*n)))\n",
        "\n",
        "log_writer = tf.summary.create_file_writer(\"train\")\n",
        "\n",
        "for epoch in tqdm(range(epochs)):\n",
        "    with tf.GradientTape() as gt:\n",
        "        out = model(\n",
        "            circuit,\n",
        "            symbol_names=thetax + thetay,\n",
        "            symbol_values=teta,\n",
        "            operators=op,\n",
        "            repetitions=500\n",
        "        )\n",
        "\n",
        "    grad = gt.gradient(out, teta)\n",
        "    thetas.assign_sub(lr * grad)\n",
        "\n",
        "    with log_writer.as_default():\n",
        "        tf.summary.scalar(\"Eigen Val\", out[0, 0], step=epoch)\n",
        "        tf.summary.histogram(\"Gradients\", grad, step=epoch)"
      ],
      "metadata": {
        "colab": {
          "base_uri": "https://localhost:8080/",
          "height": 309
        },
        "id": "EhsMGsA_rD-_",
        "outputId": "0ff21349-57d9-4901-8da0-e61628441bdd"
      },
      "execution_count": 141,
      "outputs": [
        {
          "output_type": "error",
          "ename": "TypeError",
          "evalue": "unsupported operand type(s) for -: 'SingleQubitPauliStringGateOperation' and 'list'",
          "traceback": [
            "\u001b[0;31m---------------------------------------------------------------------------\u001b[0m",
            "\u001b[0;31mTypeError\u001b[0m                                 Traceback (most recent call last)",
            "\u001b[0;32m<ipython-input-141-8e6adbbc9838>\u001b[0m in \u001b[0;36m<cell line: 8>\u001b[0;34m()\u001b[0m\n\u001b[1;32m      6\u001b[0m \u001b[0mepochs\u001b[0m \u001b[0;34m=\u001b[0m \u001b[0;36m10\u001b[0m\u001b[0;34m\u001b[0m\u001b[0;34m\u001b[0m\u001b[0m\n\u001b[1;32m      7\u001b[0m \u001b[0mqubits\u001b[0m \u001b[0;34m=\u001b[0m \u001b[0mcirq\u001b[0m\u001b[0;34m.\u001b[0m\u001b[0mLineQubit\u001b[0m\u001b[0;34m.\u001b[0m\u001b[0mrange\u001b[0m\u001b[0;34m(\u001b[0m\u001b[0mn\u001b[0m\u001b[0;34m)\u001b[0m\u001b[0;34m\u001b[0m\u001b[0;34m\u001b[0m\u001b[0m\n\u001b[0;32m----> 8\u001b[0;31m \u001b[0mop\u001b[0m \u001b[0;34m=\u001b[0m \u001b[0mget_ising_operator\u001b[0m\u001b[0;34m(\u001b[0m\u001b[0mqubits\u001b[0m\u001b[0;34m)\u001b[0m\u001b[0;34m\u001b[0m\u001b[0;34m\u001b[0m\u001b[0m\n\u001b[0m\u001b[1;32m      9\u001b[0m \u001b[0mthetax\u001b[0m \u001b[0;34m=\u001b[0m \u001b[0msympy\u001b[0m\u001b[0;34m.\u001b[0m\u001b[0msymbols\u001b[0m\u001b[0;34m(\u001b[0m\u001b[0;34mf\"x0:{n}\"\u001b[0m\u001b[0;34m)\u001b[0m\u001b[0;34m\u001b[0m\u001b[0;34m\u001b[0m\u001b[0m\n\u001b[1;32m     10\u001b[0m \u001b[0mthetay\u001b[0m \u001b[0;34m=\u001b[0m \u001b[0msympy\u001b[0m\u001b[0;34m.\u001b[0m\u001b[0msymbols\u001b[0m\u001b[0;34m(\u001b[0m\u001b[0;34mf\"y0:{n}\"\u001b[0m\u001b[0;34m)\u001b[0m\u001b[0;34m\u001b[0m\u001b[0;34m\u001b[0m\u001b[0m\n",
            "\u001b[0;32m<ipython-input-135-eac06e4938f6>\u001b[0m in \u001b[0;36mget_ising_operator\u001b[0;34m(qubits)\u001b[0m\n\u001b[1;32m      2\u001b[0m     \u001b[0;32mfor\u001b[0m \u001b[0mi\u001b[0m \u001b[0;32min\u001b[0m \u001b[0mrange\u001b[0m\u001b[0;34m(\u001b[0m\u001b[0mlen\u001b[0m\u001b[0;34m(\u001b[0m\u001b[0mqubits\u001b[0m\u001b[0;34m)\u001b[0m\u001b[0;34m)\u001b[0m\u001b[0;34m:\u001b[0m\u001b[0;34m\u001b[0m\u001b[0;34m\u001b[0m\u001b[0m\n\u001b[1;32m      3\u001b[0m        \u001b[0mop\u001b[0m \u001b[0;34m=\u001b[0m \u001b[0mcirq\u001b[0m\u001b[0;34m.\u001b[0m\u001b[0mZ\u001b[0m\u001b[0;34m(\u001b[0m\u001b[0mqubits\u001b[0m\u001b[0;34m[\u001b[0m\u001b[0mi\u001b[0m\u001b[0;34m]\u001b[0m\u001b[0;34m)\u001b[0m\u001b[0;34m\u001b[0m\u001b[0;34m\u001b[0m\u001b[0m\n\u001b[0;32m----> 4\u001b[0;31m     \u001b[0;32mreturn\u001b[0m \u001b[0mnp\u001b[0m\u001b[0;34m.\u001b[0m\u001b[0mabs\u001b[0m\u001b[0;34m(\u001b[0m\u001b[0mop\u001b[0m \u001b[0;34m-\u001b[0m \u001b[0mfin\u001b[0m\u001b[0;34m)\u001b[0m\u001b[0;34m\u001b[0m\u001b[0;34m\u001b[0m\u001b[0m\n\u001b[0m",
            "\u001b[0;31mTypeError\u001b[0m: unsupported operand type(s) for -: 'SingleQubitPauliStringGateOperation' and 'list'"
          ]
        }
      ]
    }
  ]
}